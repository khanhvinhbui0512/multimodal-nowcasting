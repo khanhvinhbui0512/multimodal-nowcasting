{
 "cells": [
  {
   "cell_type": "code",
   "execution_count": 1,
   "metadata": {},
   "outputs": [
    {
     "name": "stdout",
     "output_type": "stream",
     "text": [
      "env: PYART_QUIET=true\n"
     ]
    }
   ],
   "source": [
    "%env PYART_QUIET=true"
   ]
  },
  {
   "cell_type": "code",
   "execution_count": 28,
   "metadata": {},
   "outputs": [],
   "source": [
    "import pathlib\n",
    "\n",
    "import cartopy\n",
    "import matplotlib.pyplot as plt\n",
    "import pyart\n",
    "import numpy as np\n",
    "import wradlib as wrl"
   ]
  },
  {
   "cell_type": "code",
   "execution_count": 21,
   "metadata": {},
   "outputs": [],
   "source": [
    "MAP_PROJECTION = cartopy.crs.Mercator()"
   ]
  },
  {
   "cell_type": "code",
   "execution_count": 29,
   "metadata": {},
   "outputs": [
    {
     "ename": "KeyError",
     "evalue": "0",
     "output_type": "error",
     "traceback": [
      "\u001b[0;31m---------------------------------------------------------------------------\u001b[0m",
      "\u001b[0;31mKeyError\u001b[0m                                  Traceback (most recent call last)",
      "Cell \u001b[0;32mIn[29], line 10\u001b[0m\n\u001b[1;32m      7\u001b[0m captured_data: pyart\u001b[38;5;241m.\u001b[39mcore\u001b[38;5;241m.\u001b[39mRadar \u001b[38;5;241m=\u001b[39m pyart\u001b[38;5;241m.\u001b[39mio\u001b[38;5;241m.\u001b[39mread_sigmet(sigmet_file_path)\n\u001b[1;32m      8\u001b[0m radar2 \u001b[38;5;241m=\u001b[39m pyart\u001b[38;5;241m.\u001b[39mretrieve\u001b[38;5;241m.\u001b[39mest_rain_rate_z(captured_data)\n\u001b[0;32m---> 10\u001b[0m processed_grid \u001b[38;5;241m=\u001b[39m \u001b[43mpyart\u001b[49m\u001b[38;5;241;43m.\u001b[39;49m\u001b[43mmap\u001b[49m\u001b[38;5;241;43m.\u001b[39;49m\u001b[43mgrid_from_radars\u001b[49m\u001b[43m(\u001b[49m\n\u001b[1;32m     11\u001b[0m \u001b[43m    \u001b[49m\u001b[43mradar2\u001b[49m\u001b[43m,\u001b[49m\n\u001b[1;32m     12\u001b[0m \u001b[43m    \u001b[49m\u001b[43mgrid_shape\u001b[49m\u001b[38;5;241;43m=\u001b[39;49m\u001b[43m(\u001b[49m\u001b[38;5;241;43m1\u001b[39;49m\u001b[43m,\u001b[49m\u001b[43m \u001b[49m\u001b[38;5;241;43m1000\u001b[39;49m\u001b[43m,\u001b[49m\u001b[43m \u001b[49m\u001b[38;5;241;43m1000\u001b[39;49m\u001b[43m)\u001b[49m\u001b[43m,\u001b[49m\n\u001b[1;32m     13\u001b[0m \u001b[43m    \u001b[49m\u001b[43mgrid_limits\u001b[49m\u001b[38;5;241;43m=\u001b[39;49m\u001b[43m(\u001b[49m\u001b[43m(\u001b[49m\u001b[38;5;241;43m0\u001b[39;49m\u001b[43m,\u001b[49m\u001b[43m \u001b[49m\u001b[38;5;241;43m100\u001b[39;49m\u001b[43m)\u001b[49m\u001b[43m,\u001b[49m\u001b[43m \u001b[49m\u001b[43m(\u001b[49m\u001b[38;5;241;43m-\u001b[39;49m\u001b[38;5;241;43m50_000\u001b[39;49m\u001b[43m,\u001b[49m\u001b[43m \u001b[49m\u001b[38;5;241;43m50_000\u001b[39;49m\u001b[43m)\u001b[49m\u001b[43m,\u001b[49m\u001b[43m \u001b[49m\u001b[43m(\u001b[49m\u001b[38;5;241;43m-\u001b[39;49m\u001b[38;5;241;43m50_000\u001b[39;49m\u001b[43m,\u001b[49m\u001b[43m \u001b[49m\u001b[38;5;241;43m50_000\u001b[39;49m\u001b[43m)\u001b[49m\u001b[43m)\u001b[49m\u001b[43m,\u001b[49m\n\u001b[1;32m     14\u001b[0m \u001b[43m\u001b[49m\u001b[43m)\u001b[49m\n\u001b[1;32m     15\u001b[0m \u001b[38;5;66;03m# data = processed_grid.fields['velocity']['data'].data[0]\u001b[39;00m\n\u001b[1;32m     16\u001b[0m fig \u001b[38;5;241m=\u001b[39m plt\u001b[38;5;241m.\u001b[39mfigure()\n",
      "File \u001b[0;32m/Library/Frameworks/Python.framework/Versions/3.11/lib/python3.11/site-packages/pyart/map/grid_mapper.py:92\u001b[0m, in \u001b[0;36mgrid_from_radars\u001b[0;34m(radars, grid_shape, grid_limits, gridding_algo, copy_field_dtypes, **kwargs)\u001b[0m\n\u001b[1;32m     90\u001b[0m     grids \u001b[38;5;241m=\u001b[39m map_to_grid(radars, grid_shape, grid_limits, \u001b[38;5;241m*\u001b[39m\u001b[38;5;241m*\u001b[39mkwargs)\n\u001b[1;32m     91\u001b[0m \u001b[38;5;28;01melif\u001b[39;00m gridding_algo \u001b[38;5;241m==\u001b[39m \u001b[38;5;124m\"\u001b[39m\u001b[38;5;124mmap_gates_to_grid\u001b[39m\u001b[38;5;124m\"\u001b[39m:\n\u001b[0;32m---> 92\u001b[0m     grids \u001b[38;5;241m=\u001b[39m \u001b[43mmap_gates_to_grid\u001b[49m\u001b[43m(\u001b[49m\u001b[43mradars\u001b[49m\u001b[43m,\u001b[49m\u001b[43m \u001b[49m\u001b[43mgrid_shape\u001b[49m\u001b[43m,\u001b[49m\u001b[43m \u001b[49m\u001b[43mgrid_limits\u001b[49m\u001b[43m,\u001b[49m\u001b[43m \u001b[49m\u001b[38;5;241;43m*\u001b[39;49m\u001b[38;5;241;43m*\u001b[39;49m\u001b[43mkwargs\u001b[49m\u001b[43m)\u001b[49m\n\u001b[1;32m     93\u001b[0m \u001b[38;5;28;01melse\u001b[39;00m:\n\u001b[1;32m     94\u001b[0m     \u001b[38;5;28;01mraise\u001b[39;00m \u001b[38;5;167;01mValueError\u001b[39;00m(\u001b[38;5;124m\"\u001b[39m\u001b[38;5;124minvalid gridding_algo\u001b[39m\u001b[38;5;124m\"\u001b[39m)\n",
      "File \u001b[0;32m/Library/Frameworks/Python.framework/Versions/3.11/lib/python3.11/site-packages/pyart/map/gates_to_grid.py:103\u001b[0m, in \u001b[0;36mmap_gates_to_grid\u001b[0;34m(radars, grid_shape, grid_limits, grid_origin, grid_origin_alt, grid_projection, fields, gatefilters, map_roi, weighting_function, toa, roi_func, constant_roi, z_factor, xy_factor, min_radius, h_factor, nb, bsp, **kwargs)\u001b[0m\n\u001b[1;32m    101\u001b[0m \u001b[38;5;28;01mif\u001b[39;00m grid_origin_alt \u001b[38;5;129;01mis\u001b[39;00m \u001b[38;5;28;01mNone\u001b[39;00m:\n\u001b[1;32m    102\u001b[0m     \u001b[38;5;28;01mtry\u001b[39;00m:\n\u001b[0;32m--> 103\u001b[0m         grid_origin_alt \u001b[38;5;241m=\u001b[39m \u001b[38;5;28mfloat\u001b[39m(\u001b[43mradars\u001b[49m\u001b[43m[\u001b[49m\u001b[38;5;241;43m0\u001b[39;49m\u001b[43m]\u001b[49m\u001b[38;5;241m.\u001b[39maltitude[\u001b[38;5;124m\"\u001b[39m\u001b[38;5;124mdata\u001b[39m\u001b[38;5;124m\"\u001b[39m])\n\u001b[1;32m    104\u001b[0m     \u001b[38;5;28;01mexcept\u001b[39;00m \u001b[38;5;167;01mTypeError\u001b[39;00m:\n\u001b[1;32m    105\u001b[0m         grid_origin_alt \u001b[38;5;241m=\u001b[39m np\u001b[38;5;241m.\u001b[39mmean(radars[\u001b[38;5;241m0\u001b[39m]\u001b[38;5;241m.\u001b[39maltitude[\u001b[38;5;124m\"\u001b[39m\u001b[38;5;124mdata\u001b[39m\u001b[38;5;124m\"\u001b[39m])\n",
      "\u001b[0;31mKeyError\u001b[0m: 0"
     ]
    }
   ],
   "source": [
    "sigmet_dir = pathlib.Path(\"/Users/tuphamminh/Documents/GitHub/MF-Airflow/data\")\n",
    "sigmet_glob = sigmet_dir.glob(\"*.RAW*\")\n",
    "\n",
    "image_output_dir = pathlib.Path(\"/Users/tuphamminh/Documents/GitHub/MF-Airflow/data/numpy/rainrate\")\n",
    "\n",
    "for sigmet_file_path in sigmet_glob:\n",
    "    captured_data: pyart.core.Radar = pyart.io.read_sigmet(sigmet_file_path)\n",
    "    # radar2 = pyart.retrieve.est_rain_rate_z(captured_data)\n",
    "\n",
    "    processed_grid = pyart.map.grid_from_radars(\n",
    "        captured_data,\n",
    "        grid_shape=(1, 1000, 1000),\n",
    "        grid_limits=((0, 100), (-50_000, 50_000), (-50_000, 50_000)),\n",
    "    )\n",
    "    # data = processed_grid.fields['velocity']['data'].data[0]\n",
    "    fig = plt.figure()\n",
    "\n",
    "    grid_display = pyart.graph.GridMapDisplay(processed_grid)\n",
    "    grid_display.plot_grid(\n",
    "        \"velocity\", cmap=\"pyart_HomeyerRainbow\", fig=fig, projection=MAP_PROJECTION\n",
    "    )\n",
    "\n",
    "    # image_new_name = sigmet_file_path.name + \".npy\"\n",
    "    image_new_name = sigmet_file_path.name + \".jpg\"\n",
    "    image_dir = image_output_dir / image_new_name\n",
    "    # fig.savefig(image_dir)\n",
    "\n",
    "    # np.save(image_dir,data)\n"
   ]
  }
 ],
 "metadata": {
  "kernelspec": {
   "display_name": "MF-Airflow",
   "language": "python",
   "name": "python3"
  },
  "language_info": {
   "codemirror_mode": {
    "name": "ipython",
    "version": 3
   },
   "file_extension": ".py",
   "mimetype": "text/x-python",
   "name": "python",
   "nbconvert_exporter": "python",
   "pygments_lexer": "ipython3",
   "version": "3.11.5"
  }
 },
 "nbformat": 4,
 "nbformat_minor": 2
}
